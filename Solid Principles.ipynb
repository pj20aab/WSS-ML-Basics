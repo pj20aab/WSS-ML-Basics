{
 "cells": [
  {
   "cell_type": "markdown",
   "id": "fa1caa36-9c52-4edc-9215-8c361db991a5",
   "metadata": {},
   "source": [
    "## Solid Principles\n",
    "\n",
    "1. Single Responsibility Principle (SRP)\n",
    "2. Open Closed Principle (OCP)\n",
    "3. Liskov Substitution Principle (LSP)\n",
    "4. Interface Segregation Principle (ISP)\n",
    "5. Dependency Inversion Principle (DIP)"
   ]
  },
  {
   "cell_type": "markdown",
   "id": "95876d9c-d632-4de2-a835-40e949b73c42",
   "metadata": {},
   "source": [
    "### Single Responsibility Principle (SRP)\n",
    "\n",
    "**A class should have one and only one reason to change.**\n",
    "\n",
    "i.e. It is better to have classes that are responsible to do one kind of task rather than having classes which have multiple tasks. This increases the ability to resuse these tasks."
   ]
  },
  {
   "cell_type": "markdown",
   "id": "c25c76f9-8bb3-442d-881f-0037991639ff",
   "metadata": {},
   "source": [
    "### Open Closed Principle (OCP)\n",
    "\n",
    "**Software entities should be open for extension but closed for modifications.**"
   ]
  },
  {
   "cell_type": "markdown",
   "id": "bb4f0322-64b0-48cf-bcf1-d7591752b850",
   "metadata": {},
   "source": [
    "### Liskov Substitution Principle (LSP)\n",
    "\n",
    "**Subtypes must be substituatable for their base types.**\n",
    "\n",
    "Only use inheritence if superclass is replacable by a subclass in all the instances."
   ]
  },
  {
   "cell_type": "markdown",
   "id": "2409890b-0d2b-4eb3-b8d5-148fc555995c",
   "metadata": {},
   "source": [
    "### Interface Segregation Principle (ISP)\n",
    "\n",
    "**The dependency of one class to another one should depend on the smallest possible interface (abstraction).**\n",
    "\n",
    "The interface between classes should be minimum, group of interfaces is better. Clients should not be forced to implement interfaces they don't use."
   ]
  },
  {
   "cell_type": "markdown",
   "id": "25178d9c-9ff5-49e6-83b6-9aef3b1412d1",
   "metadata": {},
   "source": [
    "### Dependency Inversion Principle (DIP)\n",
    "\n",
    "**Depend upon abstractions (interfaces) not upon concrete classes.**"
   ]
  }
 ],
 "metadata": {
  "kernelspec": {
   "display_name": "Python 3",
   "language": "python",
   "name": "python3"
  },
  "language_info": {
   "codemirror_mode": {
    "name": "ipython",
    "version": 3
   },
   "file_extension": ".py",
   "mimetype": "text/x-python",
   "name": "python",
   "nbconvert_exporter": "python",
   "pygments_lexer": "ipython3",
   "version": "3.8.5"
  }
 },
 "nbformat": 4,
 "nbformat_minor": 5
}
