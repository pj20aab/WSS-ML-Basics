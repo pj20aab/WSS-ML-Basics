{
 "cells": [
  {
   "cell_type": "markdown",
   "id": "c500f016-ba02-4219-a1ef-92e0d893e124",
   "metadata": {},
   "source": [
    "# Multivariate Adaptive Regression Splines (MARS)\n",
    "\n",
    "Multivariate Adaptive Regression Splines, or MARS for short, is an algorithm designed for multivariate non-linear regression problems.\n",
    "\n",
    "A linear regression model is then learned from the output of each of these basis functions with the target variable. This means that the output of each basis function is weighted by a coefficient. A prediction is made by summing the weighted output of all of the basis functions in the model.\n",
    "\n",
    "Key to the MARS algorithm is how the basis functions are chosen. This involves two steps: the growing or generation phase called the forward-stage and the pruning or refining stage called the backward-stage.\n",
    "\n",
    "* Forward Stage: Generate candidate basis functions for the model.\n",
    "* Backward Stage: Delete basis functions from the model."
   ]
  },
  {
   "cell_type": "markdown",
   "id": "c2a7a474-1cc0-433e-86f7-0d46c66b689e",
   "metadata": {},
   "source": [
    "### Implementation of MARS using pyearth (installation issues)"
   ]
  },
  {
   "cell_type": "code",
   "execution_count": null,
   "id": "5152778e-a795-406c-bebe-7125fe3b8759",
   "metadata": {},
   "outputs": [],
   "source": [
    "import pyearth"
   ]
  },
  {
   "cell_type": "code",
   "execution_count": null,
   "id": "84b1ab88-0ad0-4fb9-b92f-27f7b049a672",
   "metadata": {},
   "outputs": [],
   "source": [
    "model = Earth()"
   ]
  },
  {
   "cell_type": "code",
   "execution_count": null,
   "id": "b530e93e-3913-4197-8303-18b987049ed2",
   "metadata": {},
   "outputs": [],
   "source": [
    "model.fit(X_train, y_train)"
   ]
  },
  {
   "cell_type": "code",
   "execution_count": null,
   "id": "e7c6fec5-a3fc-432d-9f7c-8c951d83f4f9",
   "metadata": {},
   "outputs": [],
   "source": [
    "y_pred = model.predict(X_test)"
   ]
  }
 ],
 "metadata": {
  "kernelspec": {
   "display_name": "Python 3",
   "language": "python",
   "name": "python3"
  },
  "language_info": {
   "codemirror_mode": {
    "name": "ipython",
    "version": 3
   },
   "file_extension": ".py",
   "mimetype": "text/x-python",
   "name": "python",
   "nbconvert_exporter": "python",
   "pygments_lexer": "ipython3",
   "version": "3.8.5"
  }
 },
 "nbformat": 4,
 "nbformat_minor": 5
}
