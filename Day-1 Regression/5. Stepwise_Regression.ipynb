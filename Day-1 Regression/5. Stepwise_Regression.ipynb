{
 "cells": [
  {
   "cell_type": "markdown",
   "id": "ae66db04-acd8-46eb-bbdd-99ff8cc77cee",
   "metadata": {},
   "source": [
    "# Stepwise Regression\n",
    "\n",
    "Stepwise regression is the step-by-step iterative construction of a regression model that involves the selection of independent variables to be used in a final model. It involves adding or removing potential explanatory variables in succession and testing for statistical significance after each iteration.\n",
    "\n",
    "### Types\n",
    "\n",
    "* Forward selection begins with no variables in the model, tests each variable as it is added to the model, then keeps those that are deemed most statistically significant—repeating the process until the results are optimal.\n",
    "* Backward elimination starts with a set of independent variables, deleting one at a time, then testing to see if the removed variable is statistically significant.\n",
    "* Bidirectional elimination is a combination of the first two methods that test which variables should be included or excluded."
   ]
  },
  {
   "cell_type": "markdown",
   "id": "e102631f-382b-4a6c-9d2b-09154e2061b5",
   "metadata": {},
   "source": [
    "### Implementation using MLXTEND"
   ]
  },
  {
   "cell_type": "code",
   "execution_count": null,
   "id": "d5a69548-a6aa-4f96-a113-9e9e665fd396",
   "metadata": {},
   "outputs": [],
   "source": [
    "from mlxtend.feature_selection import SequentialFeatureSelector as sfs\n",
    "\n",
    "clf = LinearRegression()\n",
    "\n",
    "# Build step forward feature selection\n",
    "sfs1 = sfs(clf,k_features = 10,forward=True,floating=False, scoring='r2',cv=5)\n",
    "\n",
    "# Perform SFFS\n",
    "sfs1 = sfs1.fit(X_train, y_train)"
   ]
  }
 ],
 "metadata": {
  "kernelspec": {
   "display_name": "Python 3",
   "language": "python",
   "name": "python3"
  },
  "language_info": {
   "codemirror_mode": {
    "name": "ipython",
    "version": 3
   },
   "file_extension": ".py",
   "mimetype": "text/x-python",
   "name": "python",
   "nbconvert_exporter": "python",
   "pygments_lexer": "ipython3",
   "version": "3.8.5"
  }
 },
 "nbformat": 4,
 "nbformat_minor": 5
}
