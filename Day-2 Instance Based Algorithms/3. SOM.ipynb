{
 "cells": [
  {
   "cell_type": "markdown",
   "id": "75438d0f-fde7-4d40-bda2-f71aa0aa6971",
   "metadata": {},
   "source": [
    "# Self-Organizing Map (SOM)\n",
    "\n",
    "Used for clustering and mapping (or dimensionality reduction) techniques to map multidimensional data onto lower-dimensional which allows people to reduce complex problems for easy interpretation. SOM has two layers, one is the Input layer and the other one is the Output layer. The architecture of the Self Organizing Map with two clusters and n input features of any sample is given below:"
   ]
  },
  {
   "cell_type": "markdown",
   "id": "d2e159d4-1872-4452-8534-ad32a0c82b3c",
   "metadata": {},
   "source": [
    "### Custom Class"
   ]
  },
  {
   "cell_type": "code",
   "execution_count": 1,
   "id": "885dd4c0-5892-46aa-ad72-7537e177dcd4",
   "metadata": {},
   "outputs": [],
   "source": [
    "import math\n",
    "import numpy as np"
   ]
  },
  {
   "cell_type": "code",
   "execution_count": 2,
   "id": "439c3dae-53bd-4519-9fa8-15d7989436ee",
   "metadata": {},
   "outputs": [],
   "source": [
    "class SelfOrgMap :\n",
    "    # Computing winner using Euclidean Distance\n",
    "    def winner( self, weights, sample ) :\n",
    "        D0 = 0       \n",
    "        D1 = 0\n",
    "          \n",
    "        for i  in range( len( sample ) ) :\n",
    "              \n",
    "            D0 = D0 + math.pow( ( sample[i] - weights[0][i] ), 2 )\n",
    "            D1 = D1 + math.pow( ( sample[i] - weights[1][i] ), 2 )\n",
    "              \n",
    "            if D0 > D1 :\n",
    "                return 0\n",
    "            else : \n",
    "                return 1\n",
    "      \n",
    "    # Function here updates the winning vector\n",
    "    def update( self, weights, sample, J, alpha ) :\n",
    "          \n",
    "        for i in range( len ( weights ) ) :\n",
    "            weights[J][i] = weights[J][i] + alpha * ( sample[i] - weights[J][i] ) \n",
    "  \n",
    "        return weights"
   ]
  },
  {
   "cell_type": "markdown",
   "id": "4e8e53c7-089a-4dad-b421-50916e02bc85",
   "metadata": {},
   "source": [
    "### Traning Examples"
   ]
  },
  {
   "cell_type": "code",
   "execution_count": 3,
   "id": "36fff893-835b-4c5b-ac95-5837cdaf0a08",
   "metadata": {},
   "outputs": [],
   "source": [
    "T =  [ [ 1, 1, 0, 0 ], [ 0, 0, 0, 1 ], [ 1, 0, 0, 0 ], [ 0, 0, 1, 1 ] ] \n",
    "m, n = len( T ), len( T[0] )"
   ]
  },
  {
   "cell_type": "markdown",
   "id": "8e48b4cc-3780-4044-9d60-4551582554ee",
   "metadata": {},
   "source": [
    "### Weight Initialization"
   ]
  },
  {
   "cell_type": "code",
   "execution_count": 4,
   "id": "6765a7cd-c642-41a5-a9fc-eb445a56635b",
   "metadata": {},
   "outputs": [],
   "source": [
    "weights = [ [ 0.2, 0.6, 0.5, 0.9 ], [ 0.8, 0.4, 0.7, 0.3 ] ]"
   ]
  },
  {
   "cell_type": "markdown",
   "id": "84020941-67e1-452f-9886-da97b8bf79ef",
   "metadata": {},
   "source": [
    "### Traning"
   ]
  },
  {
   "cell_type": "code",
   "execution_count": 5,
   "id": "ab53f392-d448-477c-b9fa-836e34641fd8",
   "metadata": {},
   "outputs": [],
   "source": [
    "ob = SelfOrgMap()"
   ]
  },
  {
   "cell_type": "code",
   "execution_count": 6,
   "id": "20673435-3d47-41a1-848a-1074d6039ee4",
   "metadata": {},
   "outputs": [],
   "source": [
    "epochs = 3\n",
    "alpha = 0.5"
   ]
  },
  {
   "cell_type": "code",
   "execution_count": 7,
   "id": "13bff28c-de4b-4be1-9ae8-6b6f87809acd",
   "metadata": {},
   "outputs": [],
   "source": [
    "for i in range( epochs ) :\n",
    "    for j in range( m ) :\n",
    "\n",
    "        # training sample\n",
    "        sample = T[j]\n",
    "\n",
    "        # Compute winner vector\n",
    "        J = ob.winner( weights, sample )\n",
    "\n",
    "        # Update winning vector\n",
    "        weights = ob.update( weights, sample, J, alpha )"
   ]
  },
  {
   "cell_type": "markdown",
   "id": "23b742c5-78d7-4c66-8d59-51b4637fc4d3",
   "metadata": {},
   "source": [
    "### Classification"
   ]
  },
  {
   "cell_type": "code",
   "execution_count": 8,
   "id": "d91c09e0-da61-46c5-af05-cea449f7bcd9",
   "metadata": {},
   "outputs": [
    {
     "name": "stdout",
     "output_type": "stream",
     "text": [
      "Test Sample s belongs to Cluster :  0\n",
      "Trained weights :  [[0.6000000000000001, 0.8, 0.5, 0.9], [0.3333984375, 0.0666015625, 0.7, 0.3]]\n"
     ]
    }
   ],
   "source": [
    "s = [ 0, 0, 0, 1 ]\n",
    "J = ob.winner( weights, s )\n",
    "\n",
    "print( \"Test Sample s belongs to Cluster : \", J )\n",
    "print( \"Trained weights : \", weights )"
   ]
  }
 ],
 "metadata": {
  "kernelspec": {
   "display_name": "Python 3",
   "language": "python",
   "name": "python3"
  },
  "language_info": {
   "codemirror_mode": {
    "name": "ipython",
    "version": 3
   },
   "file_extension": ".py",
   "mimetype": "text/x-python",
   "name": "python",
   "nbconvert_exporter": "python",
   "pygments_lexer": "ipython3",
   "version": "3.8.5"
  }
 },
 "nbformat": 4,
 "nbformat_minor": 5
}
